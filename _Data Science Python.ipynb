{
 "cells": [
  {
   "cell_type": "markdown",
   "metadata": {},
   "source": [
    " * <h1> Research on the two methods of copying a list with examples<h1/>"
   ]
  },
  {
   "cell_type": "markdown",
   "metadata": {},
   "source": [
    "<h1> In Python, there are two primary methods to copy a list:<h2/>\n",
    "\n",
    "* <b> list copy() method </b>\n",
    "\n",
    "* <b> Slicing method </b>"
   ]
  },
  {
   "cell_type": "code",
   "execution_count": null,
   "metadata": {},
   "outputs": [],
   "source": [
    "# using list copy() Method  \n",
    "# Creating a list  \n",
    "even_list = [6,8,2,4,12,'banana', 'orange','golden melon']  \n",
    "# empty list\n",
    "copylist = []  \n",
    "copylist\n",
    "# Calling Method  \n",
    "copylist = even_list.copy()  \n",
    "  \n",
    "print(\"original list:\", even_list)\n",
    "print(\"copiedlist:\", copylist)\n"
   ]
  },
  {
   "cell_type": "code",
   "execution_count": 43,
   "metadata": {},
   "outputs": [
    {
     "name": "stdout",
     "output_type": "stream",
     "text": [
      "[6, 8, 2, 4, 12, 'banana', 'orange', 'golden melon']\n"
     ]
    }
   ],
   "source": [
    "# using slicing Method\n",
    "copylist = even_list[::] \n",
    "print(even_list)"
   ]
  },
  {
   "cell_type": "markdown",
   "metadata": {},
   "source": [
    "<b> Differentiate between the find, count and index methods.</b>\n",
    "\n",
    "* Explain the differences and provide examples of each methods."
   ]
  },
  {
   "cell_type": "code",
   "execution_count": 23,
   "metadata": {},
   "outputs": [
    {
     "data": {
      "text/plain": [
       "'How many fruits do you have in your fruit basket?'"
      ]
     },
     "execution_count": 23,
     "metadata": {},
     "output_type": "execute_result"
    }
   ],
   "source": [
    "# count( ) is used to count the number of a particular element that is present in the list. \n",
    "\n",
    "my_string = \"How many fruits do you have in your fruit basket?\"\n",
    "my_string\n"
   ]
  },
  {
   "cell_type": "code",
   "execution_count": 22,
   "metadata": {},
   "outputs": [
    {
     "data": {
      "text/plain": [
       "2"
      ]
     },
     "execution_count": 22,
     "metadata": {},
     "output_type": "execute_result"
    }
   ],
   "source": [
    "my_string.count(\"fruit\")"
   ]
  },
  {
   "cell_type": "code",
   "execution_count": 24,
   "metadata": {},
   "outputs": [
    {
     "data": {
      "text/plain": [
       "3"
      ]
     },
     "execution_count": 24,
     "metadata": {},
     "output_type": "execute_result"
    }
   ],
   "source": [
    "d = (1, 3,65, 67, 65,65)\n",
    "d.count(65)"
   ]
  },
  {
   "cell_type": "code",
   "execution_count": null,
   "metadata": {},
   "outputs": [],
   "source": [
    "\n",
    "\"\"\"\"\n",
    "The find() method finds the first occurrence of the specified value.\n",
    "it returns -1 if the value is not found.\n",
    "\n"
   ]
  },
  {
   "cell_type": "code",
   "execution_count": 44,
   "metadata": {},
   "outputs": [
    {
     "name": "stdout",
     "output_type": "stream",
     "text": [
      "4\n"
     ]
    }
   ],
   "source": [
    "txt = \"Hello, welcome to my youtube channel.\"\n",
    "\n",
    "x = txt.find(\"o\")\n",
    "\n",
    "print(x)"
   ]
  },
  {
   "cell_type": "code",
   "execution_count": 28,
   "metadata": {},
   "outputs": [
    {
     "name": "stdout",
     "output_type": "stream",
     "text": [
      "-1\n"
     ]
    }
   ],
   "source": [
    "x = txt.find(\"p\")\n",
    "print(x)"
   ]
  },
  {
   "cell_type": "markdown",
   "metadata": {},
   "source": [
    "\"\"\"\n",
    "The index() method returns the index of a substring or char inside the string (if found). \n",
    "If the substring or char is not found, it raises an exception(error). \n",
    "The index method is similar to the find method, but it raises a ValueError if the substring is not found.\n",
    "\n",
    "\"\"\"\""
   ]
  },
  {
   "cell_type": "code",
   "execution_count": 39,
   "metadata": {},
   "outputs": [
    {
     "data": {
      "text/plain": [
       "['Rice', 'beans', 'yam', 'egg', 'Pasta']"
      ]
     },
     "execution_count": 39,
     "metadata": {},
     "output_type": "execute_result"
    }
   ],
   "source": [
    "foods = ['Rice', 'beans' , 'yam', 'egg', 'Pasta', 'egg']\n",
    "\n",
    "foods\n"
   ]
  },
  {
   "cell_type": "code",
   "execution_count": 40,
   "metadata": {},
   "outputs": [
    {
     "data": {
      "text/plain": [
       "2"
      ]
     },
     "execution_count": 40,
     "metadata": {},
     "output_type": "execute_result"
    }
   ],
   "source": [
    "foods.index('yam')"
   ]
  },
  {
   "cell_type": "code",
   "execution_count": 41,
   "metadata": {},
   "outputs": [
    {
     "data": {
      "text/plain": [
       "3"
      ]
     },
     "execution_count": 41,
     "metadata": {},
     "output_type": "execute_result"
    }
   ],
   "source": [
    "foods.index('egg')"
   ]
  },
  {
   "cell_type": "markdown",
   "metadata": {},
   "source": []
  },
  {
   "cell_type": "code",
   "execution_count": 42,
   "metadata": {},
   "outputs": [
    {
     "ename": "ValueError",
     "evalue": "'Apple' is not in list",
     "output_type": "error",
     "traceback": [
      "\u001b[1;31m---------------------------------------------------------------------------\u001b[0m",
      "\u001b[1;31mValueError\u001b[0m                                Traceback (most recent call last)",
      "\u001b[1;32m<ipython-input-42-fcffc49f3d40>\u001b[0m in \u001b[0;36m<module>\u001b[1;34m\u001b[0m\n\u001b[1;32m----> 1\u001b[1;33m \u001b[0mfoods\u001b[0m\u001b[1;33m.\u001b[0m\u001b[0mindex\u001b[0m\u001b[1;33m(\u001b[0m\u001b[1;34m'Apple'\u001b[0m\u001b[1;33m)\u001b[0m\u001b[1;33m\u001b[0m\u001b[1;33m\u001b[0m\u001b[0m\n\u001b[0m",
      "\u001b[1;31mValueError\u001b[0m: 'Apple' is not in list"
     ]
    }
   ],
   "source": [
    "foods.index('Apple')"
   ]
  },
  {
   "cell_type": "markdown",
   "metadata": {},
   "source": [
    "<b> Create a Personal “To-Do List”<b/>\n",
    "\n",
    "* Utilize various list functions.\n",
    "\n",
    "* Remove the entire list."
   ]
  },
  {
   "cell_type": "code",
   "execution_count": 87,
   "metadata": {},
   "outputs": [
    {
     "name": "stdout",
     "output_type": "stream",
     "text": [
      "['Pray', 'Cook', 'Eat breakfast', 'Attend meetings', 'Go to market', 'Read Quran']\n"
     ]
    }
   ],
   "source": [
    "# Create a To-Do List\n",
    "to_do_list = ['Pray', 'Cook', 'Eat breakfast', 'Attend meetings', 'Go to market', 'Read Quran']\n",
    "print(to_do_list)\n"
   ]
  },
  {
   "cell_type": "code",
   "execution_count": 130,
   "metadata": {},
   "outputs": [
    {
     "name": "stdout",
     "output_type": "stream",
     "text": [
      "['Read Quran', 'Pray', 'Go to work', 'Go to market', 'Eat breakfast', 'Attend meetings', 'Exercise', 'Meditate', 'Learn a new skill', 'Call a friend', 'Watch a movie']\n"
     ]
    }
   ],
   "source": [
    "# The insert() method inserts the specified value at the specified position.\n",
    "\n",
    "\n",
    "to_do_list.insert(2, 'Go to work')\n",
    "print(to_do_list)\n"
   ]
  },
  {
   "cell_type": "markdown",
   "metadata": {},
   "source": []
  },
  {
   "cell_type": "code",
   "execution_count": 89,
   "metadata": {},
   "outputs": [
    {
     "name": "stdout",
     "output_type": "stream",
     "text": [
      "['Pray', 'Cook', 'Eat breakfast', 'Attend meetings', 'Go to market', 'Read Quran']\n"
     ]
    }
   ],
   "source": [
    "#The remove() method removes the first occurrence of the element with the specified value.\n",
    "\n",
    "\n",
    "\n",
    "to_do_list.remove('Go to work')\n",
    "print(to_do_list)"
   ]
  },
  {
   "cell_type": "code",
   "execution_count": 131,
   "metadata": {},
   "outputs": [
    {
     "name": "stdout",
     "output_type": "stream",
     "text": [
      "['Read Quran', 'Go to work', 'Go to market', 'Eat breakfast', 'Attend meetings', 'Exercise', 'Meditate', 'Learn a new skill', 'Call a friend', 'Watch a movie']\n",
      "Pray\n"
     ]
    }
   ],
   "source": [
    "\"\"\"\n",
    "The pop method in Python is used to remove an item at the specified position in a list or dictionary and return it. \n",
    "We use the pop method to remove the item at index 1 (which is'COOK'). \n",
    "\"\"\"\n",
    "new_list = to_do_list.pop(1)\n",
    "print(to_do_list)\n",
    "print(new_list)"
   ]
  },
  {
   "cell_type": "code",
   "execution_count": 91,
   "metadata": {},
   "outputs": [
    {
     "name": "stdout",
     "output_type": "stream",
     "text": [
      "['Attend meetings', 'Eat breakfast', 'Go to market', 'Pray', 'Read Quran']\n"
     ]
    }
   ],
   "source": [
    "#sort() is used to sort elements in a list in ascending order.\n",
    "#sort list in alphabetical order\n",
    "to_do_list.sort()\n",
    "print(to_do_list)"
   ]
  },
  {
   "cell_type": "code",
   "execution_count": 92,
   "metadata": {},
   "outputs": [
    {
     "ename": "NameError",
     "evalue": "name 'reverse' is not defined",
     "output_type": "error",
     "traceback": [
      "\u001b[1;31m---------------------------------------------------------------------------\u001b[0m",
      "\u001b[1;31mNameError\u001b[0m                                 Traceback (most recent call last)",
      "\u001b[1;32m<ipython-input-92-fcf165ef4f4f>\u001b[0m in \u001b[0;36m<module>\u001b[1;34m\u001b[0m\n\u001b[1;32m----> 1\u001b[1;33m \u001b[0mreverse\u001b[0m\u001b[1;33m(\u001b[0m\u001b[1;33m)\u001b[0m\u001b[1;33m\u001b[0m\u001b[1;33m\u001b[0m\u001b[0m\n\u001b[0m\u001b[0;32m      2\u001b[0m \u001b[1;31m#sort list in  reverse alphabetical(descending) order\u001b[0m\u001b[1;33m\u001b[0m\u001b[1;33m\u001b[0m\u001b[1;33m\u001b[0m\u001b[0m\n\u001b[0;32m      3\u001b[0m \u001b[0mto_do_list\u001b[0m\u001b[1;33m.\u001b[0m\u001b[0msort\u001b[0m\u001b[1;33m(\u001b[0m\u001b[0mreverse\u001b[0m\u001b[1;33m=\u001b[0m\u001b[1;32mTrue\u001b[0m\u001b[1;33m)\u001b[0m\u001b[1;33m\u001b[0m\u001b[1;33m\u001b[0m\u001b[0m\n\u001b[0;32m      4\u001b[0m \u001b[0mprint\u001b[0m\u001b[1;33m(\u001b[0m\u001b[0mto_do_list\u001b[0m\u001b[1;33m)\u001b[0m\u001b[1;33m\u001b[0m\u001b[1;33m\u001b[0m\u001b[0m\n",
      "\u001b[1;31mNameError\u001b[0m: name 'reverse' is not defined"
     ]
    }
   ],
   "source": [
    "reverse()\n",
    "#sort list in  reverse alphabetical(descending) order\n",
    "to_do_list.sort(reverse=True)\n",
    "print(to_do_list)"
   ]
  },
  {
   "cell_type": "code",
   "execution_count": 93,
   "metadata": {},
   "outputs": [
    {
     "name": "stdout",
     "output_type": "stream",
     "text": [
      "['Read Quran', 'Pray', 'Go to market', 'Eat breakfast', 'Attend meetings']\n"
     ]
    }
   ],
   "source": [
    "# sort list in ascending order using reverse()\n",
    "to_do_list.reverse()\n",
    "print(to_do_list)"
   ]
  },
  {
   "cell_type": "code",
   "execution_count": 94,
   "metadata": {},
   "outputs": [
    {
     "name": "stdout",
     "output_type": "stream",
     "text": [
      "['Read Quran', 'Pray', 'Go to market', 'Eat breakfast', 'Attend meetings', 'Exercise']\n"
     ]
    }
   ],
   "source": [
    "#The append() method appends an element to the end of the list. Add exercise\n",
    "to_do_list.append('Exercise')\n",
    "print(to_do_list)"
   ]
  },
  {
   "cell_type": "code",
   "execution_count": 95,
   "metadata": {},
   "outputs": [
    {
     "name": "stdout",
     "output_type": "stream",
     "text": [
      "['Meditate', 'Learn a new skill', 'Call a friend', 'Watch a movie']\n"
     ]
    }
   ],
   "source": [
    "#The extend() list function is used to add elements of an iterable \n",
    "#(such as string, list, tuple, set, etc.) to the end of another list.\n",
    "new_list = ['Meditate', 'Learn a new skill', 'Call a friend', 'Watch a movie']\n",
    "print(new_list)\n"
   ]
  },
  {
   "cell_type": "code",
   "execution_count": 133,
   "metadata": {},
   "outputs": [
    {
     "name": "stdout",
     "output_type": "stream",
     "text": [
      "['Read Quran', 'Go to work', 'Go to market', 'Eat breakfast', 'Attend meetings', 'Exercise', 'Meditate', 'Learn a new skill', 'Call a friend', 'Watch a movie', 'P', 'r', 'a', 'y']\n"
     ]
    }
   ],
   "source": [
    "to_do_list.extend(new_list)\n",
    "print(to_do_list)"
   ]
  },
  {
   "cell_type": "code",
   "execution_count": 97,
   "metadata": {},
   "outputs": [
    {
     "name": "stdout",
     "output_type": "stream",
     "text": [
      "The smallest string is: Attend meetings\n"
     ]
    }
   ],
   "source": [
    "# The min() function returns the smallest of the values or the smallest item in an iterable passed as its parameter.\n",
    "small = min(to_do_list)\n",
    "print(\"The smallest string is:\", small)"
   ]
  },
  {
   "cell_type": "code",
   "execution_count": 128,
   "metadata": {},
   "outputs": [
    {
     "name": "stdout",
     "output_type": "stream",
     "text": [
      "Watch a movie\n"
     ]
    }
   ],
   "source": [
    "big = max(to_do_list)\n",
    "print(big)"
   ]
  },
  {
   "cell_type": "code",
   "execution_count": 132,
   "metadata": {},
   "outputs": [
    {
     "name": "stdout",
     "output_type": "stream",
     "text": [
      "1\n"
     ]
    }
   ],
   "source": [
    "print(to_do_list.count('Go to work'))  # Output: 1\n"
   ]
  },
  {
   "cell_type": "code",
   "execution_count": 135,
   "metadata": {},
   "outputs": [
    {
     "name": "stdout",
     "output_type": "stream",
     "text": [
      "4\n"
     ]
    }
   ],
   "source": [
    "print(to_do_list.index('Attend meetings'))  # Output: 1\n"
   ]
  },
  {
   "cell_type": "code",
   "execution_count": 86,
   "metadata": {},
   "outputs": [
    {
     "name": "stdout",
     "output_type": "stream",
     "text": [
      "[]\n"
     ]
    }
   ],
   "source": [
    "#clear() method removes all items from the List making it an empty/null list.\n",
    "to_do_list.clear()\n",
    "print(to_do_list)\n"
   ]
  },
  {
   "cell_type": "code",
   "execution_count": 85,
   "metadata": {},
   "outputs": [
    {
     "name": "stdout",
     "output_type": "stream",
     "text": [
      "[]\n"
     ]
    }
   ],
   "source": [
    "#clear() method removes all items from the List making it an empty/null list.\n",
    "to_do_list.clear()\n",
    "print(to_do_list)"
   ]
  },
  {
   "cell_type": "code",
   "execution_count": 102,
   "metadata": {},
   "outputs": [
    {
     "name": "stdout",
     "output_type": "stream",
     "text": [
      "(1, 2, 3)\n"
     ]
    }
   ],
   "source": [
    "\"\"\"\n",
    "Tuples in Python are immutable, meaning they cannot be updated or changed. However, there are ways to go about it.\n",
    "\n",
    "1. Convert to list, update, and convert back:\n",
    "    - Convert the tuple to a list using list()\n",
    "    - Update the list as needed\n",
    "    - Convert the list back to a tuple using tuple()\n",
    "\n",
    "\"\"\"\n",
    "\n",
    "my_tuple = (1, 2, 3)\n",
    "print(my_tuple)"
   ]
  },
  {
   "cell_type": "code",
   "execution_count": 108,
   "metadata": {},
   "outputs": [
    {
     "name": "stdout",
     "output_type": "stream",
     "text": [
      "<class 'list'>\n"
     ]
    }
   ],
   "source": [
    "\n",
    "#converting to list\n",
    "my_list = list(my_tuple)\n",
    "print(type(my_list))\n"
   ]
  },
  {
   "cell_type": "code",
   "execution_count": 109,
   "metadata": {},
   "outputs": [
    {
     "name": "stdout",
     "output_type": "stream",
     "text": [
      "(10, 2, 3)\n"
     ]
    }
   ],
   "source": [
    "#updating my_list\n",
    "my_list[0] = 10\n"
   ]
  },
  {
   "cell_type": "code",
   "execution_count": 111,
   "metadata": {},
   "outputs": [
    {
     "name": "stdout",
     "output_type": "stream",
     "text": [
      "(10, 2, 3)\n",
      "<class 'tuple'>\n"
     ]
    }
   ],
   "source": [
    "# converting back to a tuple\n",
    "my_tuple = tuple(my_list)\n",
    "print(my_tuple)\n",
    "print(type(my_tuple))"
   ]
  },
  {
   "cell_type": "code",
   "execution_count": 124,
   "metadata": {},
   "outputs": [
    {
     "name": "stdout",
     "output_type": "stream",
     "text": [
      "(70, 20, 30)\n"
     ]
    }
   ],
   "source": [
    "#Create a new tuple\n",
    "\n",
    "my_tuple = (10, 20, 30)\n",
    "my_tuple = (70, *my_tuple[1:])\n",
    "print(my_tuple)"
   ]
  },
  {
   "cell_type": "code",
   "execution_count": 125,
   "metadata": {},
   "outputs": [
    {
     "name": "stdout",
     "output_type": "stream",
     "text": [
      "(10, 2, 3, 'Work out')\n"
     ]
    }
   ],
   "source": [
    "my_tuple = (10, 2, 3)\n",
    "my_tuple = (10, 2, 3, 'Work out')\n",
    "print(my_tuple)"
   ]
  },
  {
   "cell_type": "code",
   "execution_count": null,
   "metadata": {},
   "outputs": [],
   "source": []
  }
 ],
 "metadata": {
  "kernelspec": {
   "display_name": "Python 3",
   "language": "python",
   "name": "python3"
  },
  "language_info": {
   "codemirror_mode": {
    "name": "ipython",
    "version": 3
   },
   "file_extension": ".py",
   "mimetype": "text/x-python",
   "name": "python",
   "nbconvert_exporter": "python",
   "pygments_lexer": "ipython3",
   "version": "3.8.5"
  }
 },
 "nbformat": 4,
 "nbformat_minor": 4
}
